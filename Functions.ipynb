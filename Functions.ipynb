{
  "nbformat": 4,
  "nbformat_minor": 0,
  "metadata": {
    "colab": {
      "provenance": []
    },
    "kernelspec": {
      "name": "python3",
      "display_name": "Python 3"
    },
    "language_info": {
      "name": "python"
    }
  },
  "cells": [
    {
      "cell_type": "markdown",
      "source": [
        "1.What is the difference between a function and a method in Pythin?\n",
        "- a function is independent and can be called from anywhere , while a method is tied to a class or object and must be called on that object or within that class.\n",
        "\n"
      ],
      "metadata": {
        "id": "5UxoBvU40HVW"
      }
    },
    {
      "cell_type": "markdown",
      "source": [
        "#Functions\n",
        "\n"
      ],
      "metadata": {
        "id": "S3XrLwSFzW4E"
      }
    },
    {
      "cell_type": "code",
      "execution_count": null,
      "metadata": {
        "id": "B8iALmpmzUUG"
      },
      "outputs": [],
      "source": []
    }
  ]
}